{
 "cells": [
  {
   "cell_type": "code",
   "execution_count": null,
   "metadata": {},
   "outputs": [],
   "source": [
    "import csv\n",
    "import tqdm             \n",
    "import numpy as np"
   ]
  },
  {
   "cell_type": "code",
   "execution_count": null,
   "metadata": {},
   "outputs": [],
   "source": [
    "with open(r'combined_file.csv', newline='') as f:\n",
    "    reader = csv.reader(f)\n",
    "    headers = next(reader)  # Get the header row\n",
    "    DEP_TIME_index = headers.index('DEP_TIME')\n",
    "    CRS_DEP_TIME_index = headers.index('CRS_DEP_TIME')\n",
    "    DEP_DELAY_index = headers.index('DEP_DELAY')\n",
    "    ORIGIN_AIRPORT_ID_index = headers.index('ORIGIN_AIRPORT_ID')\n",
    "    ARR_TIME_index = headers.index('ARR_TIME')\n",
    "    CRS_ARR_TIME_index = headers.index('CRS_ARR_TIME')\n",
    "    ARR_DELAY_index = headers.index('ARR_DELAY')\n",
    "    WHEELS_OFF_index = headers.index('WHEELS_OFF')\n",
    "    WHEELS_ON_index = headers.index('WHEELS_ON')\n",
    "    TAXI_OUT_index = headers.index('TAXI_OUT')\n",
    "    TAXI_IN_index = headers.index('TAXI_IN')\n",
    "    DISTANCE_index = headers.index('DISTANCE')\n",
    "    AIR_TIME_index = headers.index('AIR_TIME')\n",
    "    CRS_ELAPSED_TIME_index = headers.index('CRS_ELAPSED_TIME')\n",
    "    ACTUAL_ELAPSED_TIME_index = headers.index('ACTUAL_ELAPSED_TIME')\n",
    "    CRS_ARR_TIME_index = headers.index('CRS_ARR_TIME')\n",
    "\n",
    "\n",
    "\n",
    "\n",
    "    n = int(6e6)\n",
    "    DEP_TIME_array = np.zeros(n, dtype=float)\n",
    "    CRS_DEP_TIME_array = np.zeros(n, dtype=float)\n",
    "    DEP_DELAY_array = np.zeros(n, dtype=float)\n",
    "    ORIGIN_AIRPORT_ID_array = np.zeros(n, dtype=float)\n",
    "    ARR_TIME_array = np.zeros(n, dtype=float)\n",
    "    CRS_ARR_TIME_array = np.zeros(n, dtype=float)\n",
    "    ARR_DELAY_array = np.zeros(n, dtype=float)\n",
    "    WHEELS_OFF_array = np.zeros(n, dtype=float)\n",
    "    WHEELS_ON_array = np.zeros(n, dtype=float)\n",
    "    TAXI_OUT_array = np.zeros(n, dtype=float)\n",
    "    TAXI_IN_array = np.zeros(n, dtype=float)\n",
    "    DISTANCE_array = np.zeros(n, dtype=float)\n",
    "    AIR_TIME_array = np.zeros(n, dtype=float)\n",
    "    CRS_ELAPSED_TIME_array = np.zeros(n, dtype=float)\n",
    "    ACTUAL_ELAPSED_TIME_array = np.zeros(n, dtype=float)\n",
    "    CRS_ARR_TIME_array = np.zeros(n, dtype=float)\n",
    "\n",
    "\n",
    "\n",
    "    for count in tqdm.tqdm(range(n)):\n",
    "        row = next(reader)\n",
    "        if (row[DEP_TIME_index]!='') and (row[WHEELS_OFF_index]!='') and (row[TAXI_OUT_index]!='') and (row[DISTANCE_index]!='') and (row[AIR_TIME_index]!='') and (row[WHEELS_ON_index]!='') and (row[TAXI_IN_index]!='') and (row[DEP_DELAY_index]!='') and (row[ARR_TIME_index]!='') and (row[ARR_DELAY_index]!='') and (row[ORIGIN_AIRPORT_ID_index]!='') and (row[CRS_DEP_TIME_index]!='') and (row[CRS_ARR_TIME_index]!='') and (row[CRS_ELAPSED_TIME_index]!='') and (row[ACTUAL_ELAPSED_TIME_index]!='') and (row[CRS_ARR_TIME_index]!=''):\n",
    "            if row[DEP_TIME_index]!='':\n",
    "                DEP_TIME_array[count] = row[DEP_TIME_index]\n",
    "            if row[WHEELS_OFF_index]!='':\n",
    "                WHEELS_OFF_array[count] = row[WHEELS_OFF_index]\n",
    "            if row[TAXI_OUT_index]!='':\n",
    "                TAXI_OUT_array[count] = row[TAXI_OUT_index]\n",
    "            if row[DISTANCE_index]!='':\n",
    "                DISTANCE_array[count] = row[DISTANCE_index]\n",
    "            if row[AIR_TIME_index]!='':\n",
    "                AIR_TIME_array[count] = row[AIR_TIME_index]\n",
    "            if row[WHEELS_ON_index]!='':\n",
    "                WHEELS_ON_array[count] = row[WHEELS_ON_index]\n",
    "            if row[TAXI_IN_index]!='':\n",
    "                TAXI_IN_array[count] = row[TAXI_IN_index]\n",
    "            if row[DEP_DELAY_index]!='':\n",
    "                DEP_DELAY_array[count] = row[DEP_DELAY_index]\n",
    "            if row[ARR_TIME_index]!='':\n",
    "                ARR_TIME_array[count] = row[ARR_TIME_index]\n",
    "            if row[ARR_DELAY_index]!='':\n",
    "                ARR_DELAY_array[count] = row[ARR_DELAY_index]\n",
    "            if row[ORIGIN_AIRPORT_ID_index]!='':\n",
    "                ORIGIN_AIRPORT_ID_array[count] = row[ORIGIN_AIRPORT_ID_index]\n",
    "            if row[CRS_DEP_TIME_index]!='':\n",
    "                CRS_DEP_TIME_array[count] = row[CRS_DEP_TIME_index]\n",
    "            if row[CRS_ARR_TIME_index]!='':\n",
    "                CRS_ARR_TIME_array[count] = row[CRS_ARR_TIME_index]\n",
    "            if row[CRS_ELAPSED_TIME_index]!='':\n",
    "                CRS_ELAPSED_TIME_array[count] = row[CRS_ELAPSED_TIME_index]\n",
    "            if row[ACTUAL_ELAPSED_TIME_index]!='':\n",
    "                ACTUAL_ELAPSED_TIME_array[count] = row[ACTUAL_ELAPSED_TIME_index]\n",
    "            if row[CRS_ARR_TIME_index]!='':\n",
    "                CRS_ARR_TIME_array[count] = row[CRS_ARR_TIME_index]"
   ]
  },
  {
   "cell_type": "code",
   "execution_count": null,
   "metadata": {},
   "outputs": [],
   "source": [
    "\n",
    "import statsmodels.api as sm\n",
    "import pandas as pd\n",
    "import matplotlib.pyplot as plt\n",
    "import numpy as np\n",
    "from sklearn.metrics import mean_squared_error\n",
    "from sklearn.model_selection import train_test_split\n",
    "from sklearn.inspection import permutation_importance\n",
    "import shap\n",
    "\n",
    "from catboost import CatBoostRegressor, Pool\n"
   ]
  },
  {
   "cell_type": "code",
   "execution_count": null,
   "metadata": {},
   "outputs": [],
   "source": [
    "df = pd.read_csv('all_data_2.csv')"
   ]
  },
  {
   "cell_type": "code",
   "execution_count": null,
   "metadata": {},
   "outputs": [],
   "source": [
    "df.info()\n"
   ]
  },
  {
   "cell_type": "code",
   "execution_count": null,
   "metadata": {},
   "outputs": [],
   "source": [
    "df.isnull().sum()"
   ]
  },
  {
   "cell_type": "code",
   "execution_count": null,
   "metadata": {},
   "outputs": [],
   "source": [
    "#df = df.drop(columns = ['CANCELLATION_CODE'])\n",
    "df.dropna(inplace=True)"
   ]
  },
  {
   "cell_type": "code",
   "execution_count": null,
   "metadata": {},
   "outputs": [],
   "source": [
    "df.info()\n"
   ]
  },
  {
   "cell_type": "code",
   "execution_count": null,
   "metadata": {},
   "outputs": [],
   "source": [
    "df.model = df.model.astype('|S80')\n",
    "df.airline = df.airline.astype('|S80')"
   ]
  },
  {
   "cell_type": "code",
   "execution_count": null,
   "metadata": {},
   "outputs": [],
   "source": [
    "\n",
    "target = 'ARR_DELAY'\n",
    "y = df[target]\n",
    "features = [\"model\",\"airline\",\"ORIGIN_AIRPORT_ID\",\"DAY_OF_WEEK\",\"aircraft age\",\"aircraft max cruise speed\",\"longtitude ORIGIN\",\"longtitude DEST\",\"DEP_TIME\",\"TAXI_OUT\",\"TAXI_IN\",\"AIR_TIME\",\"DISTANCE\"]\n",
    "X = df[features]\n",
    "X_train, X_test, y_train, y_test = train_test_split(X, y, test_size=.2, random_state=1066)\n"
   ]
  },
  {
   "cell_type": "code",
   "execution_count": null,
   "metadata": {},
   "outputs": [],
   "source": [
    "df.info()"
   ]
  },
  {
   "cell_type": "code",
   "execution_count": null,
   "metadata": {},
   "outputs": [],
   "source": [
    "\n",
    "categorical_features = [\"model\",\"airline\",\"ORIGIN_AIRPORT_ID\"]\n",
    "\n",
    "train_pool = Pool(X_train, y_train, categorical_features)\n",
    "test_pool = Pool(X_test, y_test, categorical_features)\n",
    "\n",
    "model = CatBoostRegressor(iterations=500, max_depth=5, learning_rate=0.05, random_seed=1066, logging_level='Silent')\n",
    "model.fit(X_train, y_train, eval_set=test_pool, cat_features=categorical_features, use_best_model=True, early_stopping_rounds=10)\n",
    "\n",
    "rmse = np.sqrt(mean_squared_error(y_test, model.predict(X_test)))\n",
    "rmse\n"
   ]
  },
  {
   "cell_type": "code",
   "execution_count": null,
   "metadata": {},
   "outputs": [],
   "source": [
    "\n",
    "feature_importance = model.feature_importances_\n",
    "sorted_idx = np.argsort(feature_importance)\n",
    "fig = plt.figure(figsize=(12, 6))\n",
    "plt.barh(range(len(sorted_idx)), feature_importance[sorted_idx], align='center')\n",
    "plt.yticks(range(len(sorted_idx)), np.array(X_test.columns)[sorted_idx])\n",
    "plt.title('Feature Importance for ARR_DELAY')\n"
   ]
  },
  {
   "cell_type": "code",
   "execution_count": null,
   "metadata": {},
   "outputs": [],
   "source": [
    "\n",
    "target = 'ARR_DELAY'\n",
    "y = df[target]\n",
    "features = [\"model\",\"airline\",\"ORIGIN_AIRPORT_ID\",\"aircraft age\"]\n",
    "X = df[features]\n",
    "X_train, X_test, y_train, y_test = train_test_split(X, y, test_size=.2, random_state=1066)\n"
   ]
  },
  {
   "cell_type": "code",
   "execution_count": null,
   "metadata": {},
   "outputs": [],
   "source": [
    "\n",
    "categorical_features = [\"model\",\"airline\",\"ORIGIN_AIRPORT_ID\",\"aircraft age\"]\n",
    "\n",
    "train_pool = Pool(X_train, y_train, categorical_features)\n",
    "test_pool = Pool(X_test, y_test, categorical_features)\n",
    "\n",
    "model = CatBoostRegressor(iterations=500, max_depth=5, learning_rate=0.05, random_seed=1066, logging_level='Silent')\n",
    "model.fit(X_train, y_train, eval_set=test_pool, cat_features=categorical_features, use_best_model=True, early_stopping_rounds=10)\n",
    "\n",
    "rmse = np.sqrt(mean_squared_error(y_test, model.predict(X_test)))\n",
    "rmse\n"
   ]
  },
  {
   "cell_type": "code",
   "execution_count": null,
   "metadata": {},
   "outputs": [],
   "source": [
    "\n",
    "feature_importance = model.feature_importances_\n",
    "sorted_idx = np.argsort(feature_importance)\n",
    "fig = plt.figure(figsize=(12, 6))\n",
    "plt.barh(range(len(sorted_idx)), feature_importance[sorted_idx], align='center')\n",
    "plt.yticks(range(len(sorted_idx)), np.array(X_test.columns)[sorted_idx])\n",
    "plt.title('Feature Importance for ARR_DELAY')\n"
   ]
  },
  {
   "cell_type": "code",
   "execution_count": null,
   "metadata": {},
   "outputs": [],
   "source": []
  }
 ],
 "metadata": {
  "kernelspec": {
   "display_name": "Python 3",
   "language": "python",
   "name": "python3"
  },
  "language_info": {
   "codemirror_mode": {
    "name": "ipython",
    "version": 3
   },
   "file_extension": ".py",
   "mimetype": "text/x-python",
   "name": "python",
   "nbconvert_exporter": "python",
   "pygments_lexer": "ipython3",
   "version": "3.11.3"
  }
 },
 "nbformat": 4,
 "nbformat_minor": 2
}
