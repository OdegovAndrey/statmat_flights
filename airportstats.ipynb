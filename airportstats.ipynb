{
 "cells": [
  {
   "cell_type": "code",
   "execution_count": null,
   "metadata": {},
   "outputs": [],
   "source": [
    "import csv\n",
    "import tqdm             \n",
    "import numpy as np\n",
    "import tqdm"
   ]
  },
  {
   "cell_type": "code",
   "execution_count": null,
   "metadata": {},
   "outputs": [],
   "source": [
    "from collections import defaultdict\n",
    "\n",
    "airport_data = defaultdict(list)\n",
    "\n",
    "with open(r'combined_file.csv', newline='') as f:  #combined_file Jan2024\n",
    "    reader = csv.reader(f)\n",
    "    headers = next(reader)  # Get the header row\n",
    "    DEP_TIME_index = headers.index('DEP_TIME')\n",
    "    WHEELS_OFF_index = headers.index('WHEELS_OFF')\n",
    "    TAXI_OUT_index = headers.index('TAXI_OUT')\n",
    "    DISTANCE_index = headers.index('DISTANCE')\n",
    "    AIR_TIME_index = headers.index('AIR_TIME')\n",
    "    ORIGIN_AIRPORT_ID_index = headers.index('ORIGIN_AIRPORT_ID')\n",
    "\n",
    "    for row in tqdm.tqdm(reader):\n",
    "        if all(row[index] for index in [DEP_TIME_index, WHEELS_OFF_index, TAXI_OUT_index, DISTANCE_index, AIR_TIME_index, ORIGIN_AIRPORT_ID_index]):\n",
    "            airport_id = row[ORIGIN_AIRPORT_ID_index]\n",
    "            flight_data = [row[DEP_TIME_index], row[WHEELS_OFF_index], row[TAXI_OUT_index], row[DISTANCE_index], row[AIR_TIME_index]]\n",
    "            airport_data[airport_id].append(flight_data)"
   ]
  },
  {
   "cell_type": "code",
   "execution_count": null,
   "metadata": {},
   "outputs": [],
   "source": [
    "arr_ids_and_flights = []\n",
    "for airport_id, flight_data_list in airport_data.items():\n",
    "    # print(f\"Airport ID: {airport_id}\")\n",
    "    # for flight_data in flight_data_list:\n",
    "    #     print(f\"  Flight Data: {flight_data}\")\n",
    "    arr_ids_and_flights.append([airport_id, len(flight_data_list)])\n",
    "    print (len(flight_data_list))"
   ]
  },
  {
   "cell_type": "code",
   "execution_count": null,
   "metadata": {},
   "outputs": [],
   "source": [
    "arr_ids_and_flights.sort(key=lambda x: x[1])\n",
    "arr_ids_and_flights = arr_ids_and_flights[::-1]\n",
    "print(arr_ids_and_flights)"
   ]
  },
  {
   "cell_type": "code",
   "execution_count": null,
   "metadata": {},
   "outputs": [],
   "source": []
  }
 ],
 "metadata": {
  "kernelspec": {
   "display_name": "Python 3",
   "language": "python",
   "name": "python3"
  },
  "language_info": {
   "codemirror_mode": {
    "name": "ipython",
    "version": 3
   },
   "file_extension": ".py",
   "mimetype": "text/x-python",
   "name": "python",
   "nbconvert_exporter": "python",
   "pygments_lexer": "ipython3",
   "version": "3.11.3"
  }
 },
 "nbformat": 4,
 "nbformat_minor": 2
}
