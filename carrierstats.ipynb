{
 "cells": [
  {
   "cell_type": "code",
   "execution_count": null,
   "metadata": {},
   "outputs": [],
   "source": [
    "import csv\n",
    "import tqdm             \n",
    "import numpy as np\n",
    "import tqdm"
   ]
  },
  {
   "cell_type": "code",
   "execution_count": null,
   "metadata": {},
   "outputs": [],
   "source": [
    "from collections import defaultdict\n",
    "\n",
    "carrier_data = defaultdict(list)\n",
    "\n",
    "with open(r'combined_file.csv', newline='') as f:  # combined_file Jan2024\n",
    "    reader = csv.reader(f)\n",
    "    headers = next(reader)  # Get the header row\n",
    "\n",
    "    DEP_TIME_index = headers.index('DEP_TIME')\n",
    "    WHEELS_OFF_index = headers.index('WHEELS_OFF')\n",
    "    TAXI_OUT_index = headers.index('TAXI_OUT')\n",
    "    DISTANCE_index = headers.index('DISTANCE')\n",
    "    AIR_TIME_index = headers.index('AIR_TIME')\n",
    "    OP_CARRIER_FL_NUM_index = headers.index('OP_UNIQUE_CARRIER')\n",
    "\n",
    "    for row in tqdm.tqdm(reader):\n",
    "        if all(row[index] for index in [DEP_TIME_index, WHEELS_OFF_index, TAXI_OUT_index, DISTANCE_index, AIR_TIME_index, OP_CARRIER_FL_NUM_index]):\n",
    "            carrier_fl_num = row[OP_CARRIER_FL_NUM_index]\n",
    "            flight_data = [row[DEP_TIME_index], row[WHEELS_OFF_index], row[TAXI_OUT_index], row[DISTANCE_index], row[AIR_TIME_index]]\n",
    "            carrier_data[carrier_fl_num].append(flight_data)"
   ]
  },
  {
   "cell_type": "code",
   "execution_count": null,
   "metadata": {},
   "outputs": [],
   "source": [
    "airport_id = 'MQ'\n",
    "airport_DISTANCE = np.zeros(len(carrier_data[airport_id]), dtype = float)\n",
    "airport_AIR_TIME = np.zeros(len(carrier_data[airport_id]), dtype = float)\n",
    "airport_DEP_TIME = np.zeros(len(carrier_data[airport_id]), dtype = float)\n",
    "airport_WHEELS_OFF = np.zeros(len(carrier_data[airport_id]), dtype = float)\n",
    "airport_TAXI_OUT = np.zeros(len(carrier_data[airport_id]), dtype = float)\n",
    "\n",
    "\n",
    "for i,data in enumerate(carrier_data[airport_id]):\n",
    "    print (i)\n",
    "    airport_DEP_TIME[i] = data[0]\n",
    "    airport_WHEELS_OFF[i] = data[1]\n",
    "    airport_TAXI_OUT[i] = data[2]\n",
    "    airport_DISTANCE[i] = data[3]\n",
    "    airport_AIR_TIME[i] = data[4]\n",
    "\n"
   ]
  },
  {
   "cell_type": "code",
   "execution_count": null,
   "metadata": {},
   "outputs": [],
   "source": [
    "import seaborn as sns\n",
    "import matplotlib.pyplot as plt\n",
    "\n",
    "array = np.abs(airport_DEP_TIME - airport_WHEELS_OFF)\n",
    "arr = [x for x in array if x != 0 and x < 100]\n",
    "\n",
    "\n",
    "\n",
    "#sns.kdeplot(baseFare_array, label='Распределение', color='blue')\n",
    "sns.kdeplot(arr, label='Распределение', color='blue')\n",
    "\n",
    "\n",
    "\n",
    "plt.title('-')\n",
    "plt.xlabel('Значение')\n",
    "plt.ylabel('Плотность')\n",
    "\n",
    "\n",
    "plt.legend()\n",
    "plt.show()"
   ]
  },
  {
   "cell_type": "code",
   "execution_count": null,
   "metadata": {},
   "outputs": [],
   "source": []
  }
 ],
 "metadata": {
  "kernelspec": {
   "display_name": "Python 3",
   "language": "python",
   "name": "python3"
  },
  "language_info": {
   "codemirror_mode": {
    "name": "ipython",
    "version": 3
   },
   "file_extension": ".py",
   "mimetype": "text/x-python",
   "name": "python",
   "nbconvert_exporter": "python",
   "pygments_lexer": "ipython3",
   "version": "3.11.3"
  }
 },
 "nbformat": 4,
 "nbformat_minor": 2
}
